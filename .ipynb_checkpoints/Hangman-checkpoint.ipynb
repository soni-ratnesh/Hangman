{
 "cells": [
  {
   "cell_type": "code",
   "execution_count": 25,
   "metadata": {},
   "outputs": [],
   "source": [
    "def welcome():\n",
    "    print(\"*\"*5,\"WELCOME TO HANGMAN\",\"*\"*5)\n",
    "    print(\"\"\"\n",
    "    ------------------\n",
    "            |        |\n",
    "            |        |\n",
    "            O        |\n",
    "           /|\\       |\n",
    "            |        |\n",
    "           / \\       |\n",
    "                     |                            \n",
    "    _Y_Y_Y_Y_Y_Y_Y_Y_|\"\"\")\n",
    "    print(\"\\n\\t!!WARNING!!\")\n",
    "    print(\"\\nA innocent person is being hanged to death, and only you can save him!!!\")\n",
    "    print(\"\\nExecutioner is thinking of a word\")\n",
    "    print(\"\\nHe will not be executd if you can guess all the character in the word that executioner is thinking.\")\n",
    "    print(\"\\n\\n!!! SAVE HIM !!!\\n\\n\")"
   ]
  },
  {
   "cell_type": "code",
   "execution_count": 26,
   "metadata": {},
   "outputs": [],
   "source": [
    "def random_word():\n",
    "    try :\n",
    "        import nltk\n",
    "        import sys\n",
    "        from nltk.corpus import words\n",
    "        import random\n",
    "        nltk.download('words',quiet=True)\n",
    "    except Exception as e:\n",
    "        print(\"\\nINSTALL DEPENDENICS\")\n",
    "        for exp in e.args:\n",
    "            print(\"-> {}\".format(exp))\n",
    "        sys.exit()\n",
    "        \n",
    "    else:\n",
    "        \n",
    "        wordlist = words.words()\n",
    "        random.shuffle(wordlist)\n",
    "        wordlist = [w for w in wordlist if 5 <= len(w) <= 12][:200]\n",
    "        return(wordlist[random.randint(0,200)])\n",
    "    "
   ]
  },
  {
   "cell_type": "code",
   "execution_count": 27,
   "metadata": {},
   "outputs": [],
   "source": [
    "def userguess(guess,word_user,word_sys):\n",
    "\n",
    "    while guess in word_sys:\n",
    "        index=word_sys.index(guess)\n",
    "#         print(word_user,word_sys,life)\n",
    "        word_user[index], word_sys[index]=word_sys[index],word_user[index]\n",
    "    return(word_user,word_sys)\n",
    "        "
   ]
  },
  {
   "cell_type": "code",
   "execution_count": 33,
   "metadata": {},
   "outputs": [],
   "source": [
    "def main():\n",
    "    \n",
    "    welcome()\n",
    "    word_sys = list(random_word())\n",
    "    word_user = list(\"_\" * len(word_sys))\n",
    "    flag = False\n",
    "    life = 5\n",
    "    again = True\n",
    "    while again:\n",
    "        while life > 0 :\n",
    "            print(\" \".join(char for char in word_user))\n",
    "            while True:\n",
    "                try:\n",
    "                    guess=input(\"ENTER CHAR GUESS: \").lower()\n",
    "                    assert len(guess) == 1\n",
    "                    assert guess.isalpha()\n",
    "                    break;\n",
    "                except:\n",
    "                    print(\"Enter charaacter (a-z) or (A-Z)\")\n",
    "            if guess in word_sys:\n",
    "\n",
    "                word_user,word_sys = userguess(guess,word_user,word_sys)\n",
    "            else:\n",
    "\n",
    "                life -= 1\n",
    "                \n",
    "            if \"_\" not in word_user:\n",
    "                flag = True\n",
    "                break;\n",
    "        if flag:\n",
    "            print(\" \".join(char for char in word_user))\n",
    "            print(\"\\n\\n!!!THANK GOD!!!\")\n",
    "            print(\"\\nYOU SAVED HIM\")\n",
    "        else:\n",
    "            print(\"\\n\\nYOU LOST\")\n",
    "            print(\"\\n\\nHE IS DEAD\")\n",
    "        print(\"\\n\\n***Made with love by Ratnesh Kumar***\")\n",
    "        opt = input(\"\\nWanna play again ^_^ (y/n)\")\n",
    "        again = True if opt == 'y' or opt ==\"Y\" else False\n",
    "    \n",
    "    "
   ]
  }
 ],
 "metadata": {
  "kernelspec": {
   "display_name": "Python 3",
   "language": "python",
   "name": "python3"
  },
  "language_info": {
   "codemirror_mode": {
    "name": "ipython",
    "version": 3
   },
   "file_extension": ".py",
   "mimetype": "text/x-python",
   "name": "python",
   "nbconvert_exporter": "python",
   "pygments_lexer": "ipython3",
   "version": "3.6.5"
  }
 },
 "nbformat": 4,
 "nbformat_minor": 2
}
